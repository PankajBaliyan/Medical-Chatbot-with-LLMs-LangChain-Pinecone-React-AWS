{
 "cells": [
  {
   "metadata": {
    "ExecuteTime": {
     "end_time": "2025-10-04T02:14:02.867396Z",
     "start_time": "2025-10-04T02:14:02.864641Z"
    }
   },
   "cell_type": "code",
   "source": "print(\"hello chatbot\")",
   "id": "76c40da896f82d33",
   "outputs": [
    {
     "name": "stdout",
     "output_type": "stream",
     "text": [
      "hello chatbot\n"
     ]
    }
   ],
   "execution_count": 1
  },
  {
   "metadata": {
    "ExecuteTime": {
     "end_time": "2025-10-03T17:19:43.016456Z",
     "start_time": "2025-10-03T17:19:42.999488Z"
    }
   },
   "cell_type": "code",
   "source": "%pwd",
   "id": "befa7841a74bcee",
   "outputs": [
    {
     "data": {
      "text/plain": [
       "'/Users/pankajkumar/Downloads/Coding/Projects/Medical-Chatbot-with-LLMs-LangChain-Pinecone-React-AWS/research'"
      ]
     },
     "execution_count": 2,
     "metadata": {},
     "output_type": "execute_result"
    }
   ],
   "execution_count": 2
  },
  {
   "metadata": {
    "ExecuteTime": {
     "end_time": "2025-10-03T17:20:11.247042Z",
     "start_time": "2025-10-03T17:20:11.242198Z"
    }
   },
   "cell_type": "code",
   "source": [
    "import os\n",
    "os.chdir(\"../\")"
   ],
   "id": "679ac64199f68e19",
   "outputs": [],
   "execution_count": 3
  },
  {
   "metadata": {
    "ExecuteTime": {
     "end_time": "2025-10-03T17:20:18.202475Z",
     "start_time": "2025-10-03T17:20:18.192364Z"
    }
   },
   "cell_type": "code",
   "source": "%pwd",
   "id": "db84be12ce6d67de",
   "outputs": [
    {
     "data": {
      "text/plain": [
       "'/Users/pankajkumar/Downloads/Coding/Projects/Medical-Chatbot-with-LLMs-LangChain-Pinecone-React-AWS'"
      ]
     },
     "execution_count": 4,
     "metadata": {},
     "output_type": "execute_result"
    }
   ],
   "execution_count": 4
  },
  {
   "metadata": {
    "ExecuteTime": {
     "end_time": "2025-10-04T02:14:14.697449Z",
     "start_time": "2025-10-04T02:14:13.187261Z"
    }
   },
   "cell_type": "code",
   "source": [
    "from langchain.document_loaders import PyPDFLoader, DirectoryLoader\n",
    "from langchain.text_splitter import RecursiveCharacterTextSplitter # For splitting text into smaller chunks"
   ],
   "id": "2329f7b6d2706506",
   "outputs": [
    {
     "name": "stderr",
     "output_type": "stream",
     "text": [
      "/Users/pankajkumar/.local/share/virtualenvs/Medical-Chatbot-with-LLMs-LangChain-Pinecone-React-AWS-akr9m8/lib/python3.12/site-packages/tqdm/auto.py:21: TqdmWarning: IProgress not found. Please update jupyter and ipywidgets. See https://ipywidgets.readthedocs.io/en/stable/user_install.html\n",
      "  from .autonotebook import tqdm as notebook_tqdm\n"
     ]
    }
   ],
   "execution_count": 2
  },
  {
   "metadata": {
    "ExecuteTime": {
     "end_time": "2025-10-03T17:24:46.190189Z",
     "start_time": "2025-10-03T17:24:46.182796Z"
    }
   },
   "cell_type": "code",
   "source": [
    "# Extract text from PDF files in the 'data' directory\n",
    "def load_pdf_files(data):\n",
    "    loader = DirectoryLoader(\n",
    "        data,\n",
    "        glob=\"*.pdf\",\n",
    "        loader_cls=PyPDFLoader\n",
    "    )\n",
    "    documents = loader.load()\n",
    "    return documents"
   ],
   "id": "641fceff83e575bb",
   "outputs": [],
   "execution_count": 7
  },
  {
   "metadata": {
    "ExecuteTime": {
     "end_time": "2025-10-03T17:25:19.394270Z",
     "start_time": "2025-10-03T17:25:04.059115Z"
    }
   },
   "cell_type": "code",
   "source": "extracted_data = load_pdf_files(\"data\")",
   "id": "776264b770811d04",
   "outputs": [],
   "execution_count": 8
  },
  {
   "metadata": {},
   "cell_type": "code",
   "source": "extracted_data",
   "id": "8f0955b62e240445",
   "outputs": [],
   "execution_count": null
  },
  {
   "metadata": {
    "ExecuteTime": {
     "end_time": "2025-10-03T17:26:16.906519Z",
     "start_time": "2025-10-03T17:26:16.892518Z"
    }
   },
   "cell_type": "code",
   "source": "len(extracted_data)",
   "id": "cd43046559107afe",
   "outputs": [
    {
     "data": {
      "text/plain": [
       "637"
      ]
     },
     "execution_count": 10,
     "metadata": {},
     "output_type": "execute_result"
    }
   ],
   "execution_count": 10
  },
  {
   "metadata": {
    "ExecuteTime": {
     "end_time": "2025-10-04T02:14:21.925527Z",
     "start_time": "2025-10-04T02:14:21.896721Z"
    }
   },
   "cell_type": "code",
   "source": [
    "from typing import List\n",
    "from langchain.schema import Document\n",
    "\n",
    "def filter_to_minimal_docs(docs: List[Document]) -> List[Document]:\n",
    "    \"\"\"\n",
    "    Given a list of Document objects, return a new list of Document objects\n",
    "    containing only 'source' in metadata and the original page_content.\n",
    "    \"\"\"\n",
    "    minimal_docs: List[Document] = []\n",
    "    for doc in docs:\n",
    "        src = doc.metadata.get(\"source\")\n",
    "        minimal_docs.append(\n",
    "            Document(\n",
    "                page_content=doc.page_content,\n",
    "                metadata={\"source\": src}\n",
    "            )\n",
    "        )\n",
    "    return minimal_docs"
   ],
   "id": "8e6b24fb55c38f06",
   "outputs": [],
   "execution_count": 3
  },
  {
   "metadata": {
    "ExecuteTime": {
     "end_time": "2025-10-03T17:39:37.290804Z",
     "start_time": "2025-10-03T17:39:37.089586Z"
    }
   },
   "cell_type": "code",
   "source": "minimal_docs = filter_to_minimal_docs(extracted_data)",
   "id": "1072ab6784925626",
   "outputs": [],
   "execution_count": 12
  },
  {
   "metadata": {},
   "cell_type": "code",
   "source": "minimal_docs",
   "id": "e96eab21afff281d",
   "outputs": [],
   "execution_count": null
  },
  {
   "metadata": {
    "ExecuteTime": {
     "end_time": "2025-10-03T17:41:22.308057Z",
     "start_time": "2025-10-03T17:41:22.274364Z"
    }
   },
   "cell_type": "code",
   "source": [
    "# Split the documents into smaller chunks\n",
    "def text_split(minimal_docs):\n",
    "    text_splitter = RecursiveCharacterTextSplitter(\n",
    "        chunk_size=500,\n",
    "        chunk_overlap=20,\n",
    "    )\n",
    "    texts_chunk = text_splitter.split_documents(minimal_docs)\n",
    "    return texts_chunk"
   ],
   "id": "60ee418e45a1382b",
   "outputs": [],
   "execution_count": 14
  },
  {
   "metadata": {
    "ExecuteTime": {
     "end_time": "2025-10-03T17:41:33.581462Z",
     "start_time": "2025-10-03T17:41:33.387887Z"
    }
   },
   "cell_type": "code",
   "source": [
    "texts_chunk = text_split(minimal_docs)\n",
    "print(f\"Number of chunks: {len(texts_chunk)}\")"
   ],
   "id": "3dd21ed95f2d822a",
   "outputs": [
    {
     "name": "stdout",
     "output_type": "stream",
     "text": [
      "Number of chunks: 5859\n"
     ]
    }
   ],
   "execution_count": 15
  },
  {
   "metadata": {},
   "cell_type": "code",
   "source": "texts_chunk",
   "id": "dea6bb3044a844a5",
   "outputs": [],
   "execution_count": null
  },
  {
   "metadata": {
    "ExecuteTime": {
     "end_time": "2025-10-04T02:14:34.753243Z",
     "start_time": "2025-10-04T02:14:29.620533Z"
    }
   },
   "cell_type": "code",
   "source": [
    "from langchain.embeddings import HuggingFaceEmbeddings\n",
    "\n",
    "def download_embeddings():\n",
    "    \"\"\"\n",
    "    Download and return the HuggingFace embeddings model.\n",
    "    \"\"\"\n",
    "    model_name = \"sentence-transformers/all-MiniLM-L6-v2\"\n",
    "    embeddings = HuggingFaceEmbeddings(\n",
    "        model_name=model_name\n",
    "    )\n",
    "    return embeddings\n",
    "\n",
    "embedding = download_embeddings()"
   ],
   "id": "3beeaaf2db55a012",
   "outputs": [
    {
     "name": "stderr",
     "output_type": "stream",
     "text": [
      "/var/folders/4c/vdjg0l7x24b884_dnprm8xt40000gn/T/ipykernel_3024/171795349.py:8: LangChainDeprecationWarning: The class `HuggingFaceEmbeddings` was deprecated in LangChain 0.2.2 and will be removed in 1.0. An updated version of the class exists in the :class:`~langchain-huggingface package and should be used instead. To use it run `pip install -U :class:`~langchain-huggingface` and import as `from :class:`~langchain_huggingface import HuggingFaceEmbeddings``.\n",
      "  embeddings = HuggingFaceEmbeddings(\n"
     ]
    }
   ],
   "execution_count": 4
  },
  {
   "metadata": {
    "ExecuteTime": {
     "end_time": "2025-10-03T17:50:52.221830Z",
     "start_time": "2025-10-03T17:50:52.213784Z"
    }
   },
   "cell_type": "code",
   "source": "embedding",
   "id": "61fd2a9b9d7b30cf",
   "outputs": [
    {
     "data": {
      "text/plain": [
       "HuggingFaceEmbeddings(client=SentenceTransformer(\n",
       "  (0): Transformer({'max_seq_length': 256, 'do_lower_case': False}) with Transformer model: BertModel \n",
       "  (1): Pooling({'word_embedding_dimension': 384, 'pooling_mode_cls_token': False, 'pooling_mode_mean_tokens': True, 'pooling_mode_max_tokens': False, 'pooling_mode_mean_sqrt_len_tokens': False, 'pooling_mode_weightedmean_tokens': False, 'pooling_mode_lasttoken': False, 'include_prompt': True})\n",
       "  (2): Normalize()\n",
       "), model_name='sentence-transformers/all-MiniLM-L6-v2', cache_folder=None, model_kwargs={}, encode_kwargs={}, multi_process=False, show_progress=False)"
      ]
     },
     "execution_count": 18,
     "metadata": {},
     "output_type": "execute_result"
    }
   ],
   "execution_count": 18
  },
  {
   "metadata": {
    "ExecuteTime": {
     "end_time": "2025-10-03T17:51:23.516140Z",
     "start_time": "2025-10-03T17:51:20.550275Z"
    }
   },
   "cell_type": "code",
   "source": [
    "vector = embedding.embed_query(\"Hello world\")\n",
    "vector"
   ],
   "id": "9352a46ad334985",
   "outputs": [
    {
     "data": {
      "text/plain": [
       "[-0.03447728604078293,\n",
       " 0.031023193150758743,\n",
       " 0.006734972819685936,\n",
       " 0.026109015569090843,\n",
       " -0.03936203196644783,\n",
       " -0.16030248999595642,\n",
       " 0.06692397594451904,\n",
       " -0.006441446952521801,\n",
       " -0.047450508922338486,\n",
       " 0.014758873730897903,\n",
       " 0.07087536156177521,\n",
       " 0.05552757531404495,\n",
       " 0.019193297252058983,\n",
       " -0.026251330971717834,\n",
       " -0.01010951865464449,\n",
       " -0.026940520852804184,\n",
       " 0.02230742573738098,\n",
       " -0.02222665771842003,\n",
       " -0.14969265460968018,\n",
       " -0.017493057996034622,\n",
       " 0.007676220964640379,\n",
       " 0.054352302104234695,\n",
       " 0.0032544543500989676,\n",
       " 0.03172598406672478,\n",
       " -0.08462141454219818,\n",
       " -0.029405983164906502,\n",
       " 0.05159566551446915,\n",
       " 0.04812401905655861,\n",
       " -0.0033147598151117563,\n",
       " -0.05827919393777847,\n",
       " 0.04196927696466446,\n",
       " 0.022210730239748955,\n",
       " 0.128188818693161,\n",
       " -0.022338904440402985,\n",
       " -0.011656290851533413,\n",
       " 0.06292837113142014,\n",
       " -0.03287629410624504,\n",
       " -0.09122607111930847,\n",
       " -0.031175294890999794,\n",
       " 0.05269956961274147,\n",
       " 0.04703482985496521,\n",
       " -0.08420304954051971,\n",
       " -0.030056187883019447,\n",
       " -0.020744839683175087,\n",
       " 0.009517810307443142,\n",
       " -0.003721754066646099,\n",
       " 0.007343326695263386,\n",
       " 0.03932433947920799,\n",
       " 0.0932740718126297,\n",
       " -0.0037885906640440226,\n",
       " -0.05274208262562752,\n",
       " -0.058058176189661026,\n",
       " -0.006864377297461033,\n",
       " 0.005283246282488108,\n",
       " 0.0828930139541626,\n",
       " 0.01936275139451027,\n",
       " 0.006284463219344616,\n",
       " -0.010330784134566784,\n",
       " 0.00903236959129572,\n",
       " -0.037683770060539246,\n",
       " -0.045206062495708466,\n",
       " 0.024016376584768295,\n",
       " -0.0069441646337509155,\n",
       " 0.013491643592715263,\n",
       " 0.10005499422550201,\n",
       " -0.071683868765831,\n",
       " -0.021695077419281006,\n",
       " 0.031618501991033554,\n",
       " -0.051634617149829865,\n",
       " -0.08224769681692123,\n",
       " -0.06569334119558334,\n",
       " -0.009895379655063152,\n",
       " 0.005816412623971701,\n",
       " 0.07355455309152603,\n",
       " -0.034050289541482925,\n",
       " 0.024886084720492363,\n",
       " 0.01448807306587696,\n",
       " 0.026457369327545166,\n",
       " 0.00965675339102745,\n",
       " 0.030217347666621208,\n",
       " 0.05280395597219467,\n",
       " -0.07535989582538605,\n",
       " 0.009897199459373951,\n",
       " 0.029836837202310562,\n",
       " 0.017555538564920425,\n",
       " 0.02309197001159191,\n",
       " 0.0019338650163263083,\n",
       " 0.001400176202878356,\n",
       " -0.04717593267560005,\n",
       " -0.011194358579814434,\n",
       " -0.11420133709907532,\n",
       " -0.0198119655251503,\n",
       " 0.040266212075948715,\n",
       " 0.002193017164245248,\n",
       " -0.07979223132133484,\n",
       " -0.02538231946527958,\n",
       " 0.09448293596506119,\n",
       " -0.02898111566901207,\n",
       " -0.14500249922275543,\n",
       " 0.230977401137352,\n",
       " 0.027731139212846756,\n",
       " 0.03211144730448723,\n",
       " 0.031065037474036217,\n",
       " 0.0428328700363636,\n",
       " 0.0642378032207489,\n",
       " 0.032163143157958984,\n",
       " -0.004876732360571623,\n",
       " 0.05569946765899658,\n",
       " -0.037532396614551544,\n",
       " -0.021505586802959442,\n",
       " -0.028342701494693756,\n",
       " -0.028846878558397293,\n",
       " 0.0383530855178833,\n",
       " -0.0174686498939991,\n",
       " 0.05248527601361275,\n",
       " -0.07487605512142181,\n",
       " -0.031259775161743164,\n",
       " 0.021841540932655334,\n",
       " -0.03989565744996071,\n",
       " -0.008587105199694633,\n",
       " 0.026956606656312943,\n",
       " -0.04849553108215332,\n",
       " 0.011469874531030655,\n",
       " 0.029618283733725548,\n",
       " -0.020572181791067123,\n",
       " 0.013103891164064407,\n",
       " 0.028833439573645592,\n",
       " -3.194200554190157e-33,\n",
       " 0.06478201597929001,\n",
       " -0.018130239099264145,\n",
       " 0.051789939403533936,\n",
       " 0.12198270112276077,\n",
       " 0.028780171647667885,\n",
       " 0.008722009137272835,\n",
       " -0.07052117586135864,\n",
       " -0.016907300800085068,\n",
       " 0.040739722549915314,\n",
       " 0.042116180062294006,\n",
       " 0.025447240099310875,\n",
       " 0.0357462503015995,\n",
       " -0.04914478212594986,\n",
       " 0.0021290546283125877,\n",
       " -0.015546591952443123,\n",
       " 0.05073057860136032,\n",
       " -0.04818529263138771,\n",
       " 0.03588063642382622,\n",
       " -0.004067007917910814,\n",
       " 0.10172471404075623,\n",
       " -0.05597004294395447,\n",
       " -0.010681060142815113,\n",
       " 0.011235815472900867,\n",
       " 0.09068650007247925,\n",
       " 0.004234492313116789,\n",
       " 0.03513867408037186,\n",
       " -0.009702807292342186,\n",
       " -0.09386520832777023,\n",
       " 0.09285557270050049,\n",
       " 0.00800495594739914,\n",
       " -0.007705453783273697,\n",
       " -0.05208675190806389,\n",
       " -0.012587959878146648,\n",
       " 0.003266898449510336,\n",
       " 0.006013522390276194,\n",
       " 0.007581630721688271,\n",
       " 0.010517201386392117,\n",
       " -0.08634550869464874,\n",
       " -0.06987878680229187,\n",
       " -0.0025338483974337578,\n",
       " -0.09097658097743988,\n",
       " 0.04688730835914612,\n",
       " 0.05207647755742073,\n",
       " 0.007193883415311575,\n",
       " 0.010903635993599892,\n",
       " -0.005229511298239231,\n",
       " 0.013937351293861866,\n",
       " 0.021968351677060127,\n",
       " 0.03420856222510338,\n",
       " 0.06022467091679573,\n",
       " 0.00011666183854686096,\n",
       " 0.014731936156749725,\n",
       " -0.07008922845125198,\n",
       " 0.028499020263552666,\n",
       " -0.027601614594459534,\n",
       " 0.010768413543701172,\n",
       " 0.0348309762775898,\n",
       " -0.02248787321150303,\n",
       " 0.009769061580300331,\n",
       " 0.07722781598567963,\n",
       " 0.021588334813714027,\n",
       " 0.11495621502399445,\n",
       " -0.0680011734366417,\n",
       " 0.023760955780744553,\n",
       " -0.01598397083580494,\n",
       " -0.017826978117227554,\n",
       " 0.06439492851495743,\n",
       " 0.032025810331106186,\n",
       " 0.050270259380340576,\n",
       " -0.005913719534873962,\n",
       " -0.03370803967118263,\n",
       " 0.01784033328294754,\n",
       " 0.016573376953601837,\n",
       " 0.06329653412103653,\n",
       " 0.03467721492052078,\n",
       " 0.046473428606987,\n",
       " 0.09790614247322083,\n",
       " -0.0066354949958622456,\n",
       " 0.0252070315182209,\n",
       " -0.07798831909894943,\n",
       " 0.016926443204283714,\n",
       " -0.0009458141284994781,\n",
       " 0.022471876814961433,\n",
       " -0.038253266364336014,\n",
       " 0.09570477157831192,\n",
       " -0.005350722000002861,\n",
       " 0.010469039902091026,\n",
       " -0.11524056643247604,\n",
       " -0.013262500055134296,\n",
       " -0.010709450580179691,\n",
       " -0.08311720192432404,\n",
       " 0.07327358424663544,\n",
       " 0.04939219728112221,\n",
       " -0.008994373492896557,\n",
       " -0.09584560990333557,\n",
       " 3.366149296434549e-33,\n",
       " 0.12493184208869934,\n",
       " 0.019349711015820503,\n",
       " -0.05822575464844704,\n",
       " -0.035988226532936096,\n",
       " -0.050746798515319824,\n",
       " -0.04566240310668945,\n",
       " -0.08260343223810196,\n",
       " 0.14819477498531342,\n",
       " -0.08842116594314575,\n",
       " 0.06027446687221527,\n",
       " 0.051030196249485016,\n",
       " 0.010303130373358727,\n",
       " 0.14121420681476593,\n",
       " 0.030813826248049736,\n",
       " 0.06103312224149704,\n",
       " -0.052851248532533646,\n",
       " 0.13664887845516205,\n",
       " 0.009189902804791927,\n",
       " -0.017325233668088913,\n",
       " -0.012848632410168648,\n",
       " -0.007995273917913437,\n",
       " -0.050980065017938614,\n",
       " -0.052350640296936035,\n",
       " 0.007593061774969101,\n",
       " -0.015166327357292175,\n",
       " 0.016960352659225464,\n",
       " 0.02127056010067463,\n",
       " 0.02055802009999752,\n",
       " -0.120028056204319,\n",
       " 0.014461821876466274,\n",
       " 0.026759890839457512,\n",
       " 0.025330595672130585,\n",
       " -0.04275466874241829,\n",
       " 0.006768375635147095,\n",
       " -0.014458593912422657,\n",
       " 0.045262012630701065,\n",
       " -0.09147654473781586,\n",
       " -0.01943914406001568,\n",
       " -0.017833486199378967,\n",
       " -0.054910074919462204,\n",
       " -0.052641063928604126,\n",
       " -0.010459043085575104,\n",
       " -0.05201604962348938,\n",
       " 0.020892051979899406,\n",
       " -0.0799703374505043,\n",
       " -0.012111341580748558,\n",
       " -0.05773136764764786,\n",
       " 0.02317824773490429,\n",
       " -0.008031622506678104,\n",
       " -0.02598928101360798,\n",
       " -0.07995666563510895,\n",
       " -0.020728811621665955,\n",
       " 0.04881775751709938,\n",
       " -0.02038915455341339,\n",
       " -0.04917661100625992,\n",
       " 0.014159656129777431,\n",
       " -0.06362208724021912,\n",
       " -0.007807411253452301,\n",
       " 0.0164315328001976,\n",
       " -0.025682540610432625,\n",
       " 0.013381082564592361,\n",
       " 0.026248719543218613,\n",
       " 0.009978357702493668,\n",
       " 0.06322892010211945,\n",
       " 0.0026721241883933544,\n",
       " -0.0065828044898808,\n",
       " 0.01663197949528694,\n",
       " 0.032366424798965454,\n",
       " 0.03794252499938011,\n",
       " -0.03637603670358658,\n",
       " -0.006910933181643486,\n",
       " 0.00015969928062986583,\n",
       " -0.0016335975378751755,\n",
       " -0.027278216555714607,\n",
       " -0.028038032352924347,\n",
       " 0.04968152195215225,\n",
       " -0.028867164626717567,\n",
       " -0.0024180470500141382,\n",
       " 0.014774903655052185,\n",
       " 0.00976455956697464,\n",
       " 0.005797551479190588,\n",
       " 0.013486156240105629,\n",
       " 0.0055679199285805225,\n",
       " 0.03722706809639931,\n",
       " 0.007232509553432465,\n",
       " 0.04015621170401573,\n",
       " 0.08150327205657959,\n",
       " 0.07199162989854813,\n",
       " -0.013056165538728237,\n",
       " -0.04288206249475479,\n",
       " -0.011011237278580666,\n",
       " 0.004897738806903362,\n",
       " -0.009229701943695545,\n",
       " 0.03519149124622345,\n",
       " -0.05103503167629242,\n",
       " -1.5714372025854573e-08,\n",
       " -0.08862441778182983,\n",
       " 0.02390931360423565,\n",
       " -0.016238722950220108,\n",
       " 0.03170046955347061,\n",
       " 0.027284206822514534,\n",
       " 0.052468832582235336,\n",
       " -0.0470709502696991,\n",
       " -0.058847445994615555,\n",
       " -0.06320826709270477,\n",
       " 0.04088851064443588,\n",
       " 0.04982790723443031,\n",
       " 0.10655170679092407,\n",
       " -0.07450231909751892,\n",
       " -0.012495406903326511,\n",
       " 0.018370674923062325,\n",
       " 0.03947411850094795,\n",
       " -0.024797897785902023,\n",
       " 0.014516265131533146,\n",
       " -0.037069205194711685,\n",
       " 0.020015735179185867,\n",
       " -4.85699056298472e-05,\n",
       " 0.009866534732282162,\n",
       " 0.024838801473379135,\n",
       " -0.052458133548498154,\n",
       " 0.02931416966021061,\n",
       " -0.08719190955162048,\n",
       " -0.014499811455607414,\n",
       " 0.026019081473350525,\n",
       " -0.01874639093875885,\n",
       " -0.07620513439178467,\n",
       " 0.03504325449466705,\n",
       " 0.10363953560590744,\n",
       " -0.028050540015101433,\n",
       " 0.012718197889626026,\n",
       " -0.07632554322481155,\n",
       " -0.018652385100722313,\n",
       " 0.024976737797260284,\n",
       " 0.08144534379243851,\n",
       " 0.06875891983509064,\n",
       " -0.06405658274888992,\n",
       " -0.08389391005039215,\n",
       " 0.0613623671233654,\n",
       " -0.033545587211847305,\n",
       " -0.10615338385105133,\n",
       " -0.04008059576153755,\n",
       " 0.03253021091222763,\n",
       " 0.07662486284971237,\n",
       " -0.07301612943410873,\n",
       " 0.0003376091772224754,\n",
       " -0.04087156057357788,\n",
       " -0.07578850537538528,\n",
       " 0.02752765640616417,\n",
       " 0.07462543249130249,\n",
       " 0.017717283219099045,\n",
       " 0.09121841192245483,\n",
       " 0.11022016406059265,\n",
       " 0.0005697984015569091,\n",
       " 0.051463302224874496,\n",
       " -0.014551319181919098,\n",
       " 0.033232007175683975,\n",
       " 0.02379225194454193,\n",
       " -0.022889792919158936,\n",
       " 0.03893755003809929,\n",
       " 0.030206795781850815]"
      ]
     },
     "execution_count": 19,
     "metadata": {},
     "output_type": "execute_result"
    }
   ],
   "execution_count": 19
  },
  {
   "metadata": {
    "ExecuteTime": {
     "end_time": "2025-10-03T17:51:48.011432Z",
     "start_time": "2025-10-03T17:51:47.994939Z"
    }
   },
   "cell_type": "code",
   "source": "print( \"Vector length:\", len(vector))",
   "id": "34e64a8e343f5c5c",
   "outputs": [
    {
     "name": "stdout",
     "output_type": "stream",
     "text": [
      "Vector length: 384\n"
     ]
    }
   ],
   "execution_count": 20
  },
  {
   "metadata": {
    "ExecuteTime": {
     "end_time": "2025-10-04T02:15:04.616406Z",
     "start_time": "2025-10-04T02:15:04.607290Z"
    }
   },
   "cell_type": "code",
   "source": [
    "from dotenv import load_dotenv\n",
    "import os\n",
    "load_dotenv()"
   ],
   "id": "2b48184cd0e7e79",
   "outputs": [
    {
     "data": {
      "text/plain": [
       "True"
      ]
     },
     "execution_count": 6,
     "metadata": {},
     "output_type": "execute_result"
    }
   ],
   "execution_count": 6
  },
  {
   "metadata": {
    "ExecuteTime": {
     "end_time": "2025-10-04T02:23:55.908706Z",
     "start_time": "2025-10-04T02:23:55.904743Z"
    }
   },
   "cell_type": "code",
   "source": [
    "PINECONE_API_KEY = os.getenv(\"PINECONE_API_KEY\")\n",
    "OPENAI_API_KEY = os.getenv(\"OPENAI_API_KEY\")\n",
    "\n",
    "\n",
    "os.environ[\"PINECONE_API_KEY\"] = PINECONE_API_KEY\n",
    "os.environ[\"OPENAI_API_KEY\"] = OPENAI_API_KEY"
   ],
   "id": "65475166fc0f61f8",
   "outputs": [],
   "execution_count": 27
  },
  {
   "metadata": {
    "ExecuteTime": {
     "end_time": "2025-10-04T02:15:10.799780Z",
     "start_time": "2025-10-04T02:15:10.746328Z"
    }
   },
   "cell_type": "code",
   "source": [
    "from pinecone import Pinecone\n",
    "pinecone_api_key = PINECONE_API_KEY\n",
    "\n",
    "pc = Pinecone(api_key=pinecone_api_key)"
   ],
   "id": "661f5057ef5903d3",
   "outputs": [],
   "execution_count": 8
  },
  {
   "metadata": {
    "ExecuteTime": {
     "end_time": "2025-10-04T02:15:13.397945Z",
     "start_time": "2025-10-04T02:15:13.343810Z"
    }
   },
   "cell_type": "code",
   "source": "pc",
   "id": "60a2cbd3e26d238d",
   "outputs": [
    {
     "data": {
      "text/plain": [
       "<pinecone.pinecone.Pinecone at 0x11a340ad0>"
      ]
     },
     "execution_count": 9,
     "metadata": {},
     "output_type": "execute_result"
    }
   ],
   "execution_count": 9
  },
  {
   "metadata": {
    "ExecuteTime": {
     "end_time": "2025-10-04T02:15:20.881847Z",
     "start_time": "2025-10-04T02:15:17.806951Z"
    }
   },
   "cell_type": "code",
   "source": [
    "from pinecone import ServerlessSpec\n",
    "\n",
    "index_name = \"medical-chatbot\"\n",
    "\n",
    "if not pc.has_index(index_name):\n",
    "    pc.create_index(\n",
    "        name = index_name,\n",
    "        dimension=384,  # Dimension of the embeddings\n",
    "        metric= \"cosine\",  # Cosine similarity\n",
    "        spec=ServerlessSpec(cloud=\"aws\", region=\"us-east-1\")\n",
    "    )\n",
    "\n",
    "\n",
    "index = pc.Index(index_name)"
   ],
   "id": "eea3e3db858ec4a7",
   "outputs": [],
   "execution_count": 10
  },
  {
   "metadata": {
    "ExecuteTime": {
     "end_time": "2025-10-03T18:17:38.573667Z",
     "start_time": "2025-10-03T18:15:50.811832Z"
    }
   },
   "cell_type": "code",
   "source": [
    "from langchain_pinecone import PineconeVectorStore\n",
    "\n",
    "docsearch = PineconeVectorStore.from_documents(\n",
    "    documents=texts_chunk,\n",
    "    embedding=embedding,\n",
    "    index_name=index_name\n",
    ")"
   ],
   "id": "c141172d13f53468",
   "outputs": [],
   "execution_count": 27
  },
  {
   "metadata": {
    "ExecuteTime": {
     "end_time": "2025-10-04T02:15:33.922953Z",
     "start_time": "2025-10-04T02:15:32.640472Z"
    }
   },
   "cell_type": "code",
   "source": [
    "# Load Existing index\n",
    "\n",
    "from langchain_pinecone import PineconeVectorStore\n",
    "# Embed each chunk and upsert the embeddings into your Pinecone index.\n",
    "docsearch = PineconeVectorStore.from_existing_index(\n",
    "    index_name=index_name,\n",
    "    embedding=embedding\n",
    ")"
   ],
   "id": "115325b20aa00db1",
   "outputs": [],
   "execution_count": 11
  },
  {
   "metadata": {},
   "cell_type": "markdown",
   "source": "# Add more data to the existing Pinecone index",
   "id": "edaddeaf184739a"
  },
  {
   "metadata": {
    "ExecuteTime": {
     "end_time": "2025-10-04T16:19:36.219330Z",
     "start_time": "2025-10-04T16:19:32.799086Z"
    }
   },
   "cell_type": "code",
   "source": [
    "dswith = Document(\n",
    "    page_content=\"pankaj is a youtube channel that provides tutorials on various topics.\",\n",
    "    metadata={\"source\": \"Youtube\"}\n",
    ")\n",
    "\n",
    "docsearch.add_documents(documents=[dswith])"
   ],
   "id": "a3a2290151975303",
   "outputs": [
    {
     "data": {
      "text/plain": [
       "['2a501baa-76a1-411c-ab85-fe99e99dfeea']"
      ]
     },
     "execution_count": 32,
     "metadata": {},
     "output_type": "execute_result"
    }
   ],
   "execution_count": 32
  },
  {
   "metadata": {
    "ExecuteTime": {
     "end_time": "2025-10-04T02:16:27.471944Z",
     "start_time": "2025-10-04T02:16:27.455895Z"
    }
   },
   "cell_type": "code",
   "source": "retriever = docsearch.as_retriever(search_type=\"similarity\", search_kwargs={\"k\":3})",
   "id": "b24290e4f3210e2c",
   "outputs": [],
   "execution_count": 13
  },
  {
   "metadata": {
    "ExecuteTime": {
     "end_time": "2025-10-04T02:16:30.038202Z",
     "start_time": "2025-10-04T02:16:29.269449Z"
    }
   },
   "cell_type": "code",
   "source": [
    "retrieved_docs = retriever.invoke(\"What is Acne?\")\n",
    "retrieved_docs"
   ],
   "id": "4ea9a75ddc3dbfbb",
   "outputs": [
    {
     "data": {
      "text/plain": [
       "[Document(id='2f3a524a-5884-4f97-851c-46501899fd1d', metadata={'source': 'data/Medical_book.pdf'}, page_content='GALE ENCYCLOPEDIA OF MEDICINE 226\\nAcne\\nGEM - 0001 to 0432 - A  10/22/03 1:41 PM  Page 26'),\n",
       " Document(id='84552834-5ba8-424b-9d03-4735c93fa2c6', metadata={'source': 'data/Medical_book.pdf'}, page_content='GALE ENCYCLOPEDIA OF MEDICINE 2 25\\nAcne\\nAcne vulgaris affecting a woman’s face. Acne is the general\\nname given to a skin disorder in which the sebaceous\\nglands become inflamed. (Photograph by Biophoto Associ-\\nates, Photo Researchers, Inc. Reproduced by permission.)\\nGEM - 0001 to 0432 - A  10/22/03 1:41 PM  Page 25'),\n",
       " Document(id='6e612ab4-9b46-420b-8dec-978c69f19460', metadata={'source': 'data/Medical_book.pdf'}, page_content='Acidosis see Respiratory acidosis; Renal\\ntubular acidosis; Metabolic acidosis\\nAcne\\nDefinition\\nAcne is a common skin disease characterized by\\npimples on the face, chest, and back. It occurs when the\\npores of the skin become clogged with oil, dead skin\\ncells, and bacteria.\\nDescription\\nAcne vulgaris, the medical term for common acne, is\\nthe most common skin disease. It affects nearly 17 million\\npeople in the United States. While acne can arise at any')]"
      ]
     },
     "execution_count": 14,
     "metadata": {},
     "output_type": "execute_result"
    }
   ],
   "execution_count": 14
  },
  {
   "metadata": {
    "ExecuteTime": {
     "end_time": "2025-10-04T02:23:23.943302Z",
     "start_time": "2025-10-04T02:23:23.933038Z"
    }
   },
   "cell_type": "code",
   "source": [
    "from langchain_openai import ChatOpenAI\n",
    "\n",
    "# os.environ[\"OPENAI_API_KEY\"] = \"sk-o\"  # your OpenRouter key\n",
    "# chatModel = ChatOpenAI(model=\"gpt-4o\")\n",
    "chatModel = ChatOpenAI(\n",
    "    base_url=\"https://openrouter.ai/api/v1\",  # 👈 important\n",
    "    model=\"openai/gpt-oss-20b:free\"\n",
    ")"
   ],
   "id": "268913985d260ae",
   "outputs": [],
   "execution_count": 25
  },
  {
   "metadata": {
    "ExecuteTime": {
     "end_time": "2025-10-04T02:23:55.885272Z",
     "start_time": "2025-10-04T02:23:25.224793Z"
    }
   },
   "cell_type": "code",
   "source": [
    "response = chatModel.invoke(\"What is Acromegaly and gigantism?\")\n",
    "print(response.content)"
   ],
   "id": "f7c3691676768b4",
   "outputs": [
    {
     "name": "stdout",
     "output_type": "stream",
     "text": [
      "## Acromegaly vs. Gigantism  \n",
      "*(Why the same hormone can make two very different appearances)*  \n",
      "\n",
      "| **Feature** | **Acromegaly** | **Gigantism** |\n",
      "|-------------|----------------|--------------|\n",
      "| **Who is affected?** | Adults who have already finished bone growth (after epiphyseal closure) – usually late‑20s to early‑40s. | Children or adolescents who still have open growth plates. |\n",
      "| **Primary symptom** | Symmetric enlargement of the parts of the skeleton and soft tissue that change after puberty – hands, feet, jaw, nose. | Excessive linear growth – the child becomes dramatically taller than peers. |\n",
      "| **Bone involvement** | Mainly metaphyses & epiphyses that have already fused; 1st‑pass effects are limited to bone length, 2nd‑pass growth of cartilage. | Growth plates are still open, so GH stimulates continued longitudinal bone growth → tall stature. |\n",
      "| **Typical body‑mass changes** | Weight gain, coarse facial features, hypertension, diabetes, arthropathy. | BMI similar to peers, though body proportions are often abnormal. |\n",
      "| **Age of onset** | 30–50 y (but can vary). | 5–15 y (typically after age 5). |\n",
      "| **Incidence** | ~240 new cases per 1 M person‑years (most common in Western countries). | ~8–10 per 1 M per year – far rarer. |\n",
      "| **Prognosis** | If untreated → ↑ mortality by 2‑3 ×.  If treated → mortality similar to general population by 10‑yr follow‑up. | Untreated → ↑ incidence of hypertension, sleep apnea, cardiomyopathy, early death.  Good treatment decreases mortality. |\n",
      "\n",
      "---\n",
      "\n",
      "### 1. What Exactly Are They?\n",
      "\n",
      "**Acromegaly**  \n",
      "- A chronic disorder of **excess growth hormone (GH)**—most often due to a **pituitary somatotroph adenoma** (≈ 70‑80 % of cases).  \n",
      "- Term *acromegaly* comes from Greek *akrom* (“extremity”) + *megalos* (“large”), describing the hallmark enlargement of the hands/feet/facial skeleton.  \n",
      "- The excess GH overstimulates the liver and other organs to produce insulin‑like growth factor‑1 (**IGF‑1**), the main effector of growth.\n",
      "\n",
      "**Gigantism**  \n",
      "- Pathologically the *same* disorder (GH‑excess), but it manifests **before the growth plates close**.  \n",
      "- Because the metaphyseal growth plates are still open, GH can **drive linear bone growth**, producing a child who grows far taller than normal.  \n",
      "- Boys are affected slightly more often than girls (≈ 1.5:1).  As the disease may progress into adulthood the children eventually develop the same soft‑tissue enlargement seen in acromegaly.  \n",
      "\n",
      "### 2. Causes & Pathologic Stages\n",
      "\n",
      "| Factor | Typical in Acromegaly | Typical in Gigantism |\n",
      "|--------|-----------------------|---------------------|\n",
      "| GH‑secreting tumor | Pituitary adenoma (macro‑adenoma) | Same adenoma (often micro‑adenoma) |\n",
      "| Location | Pituitary | Pituitary (often infiltrative) |\n",
      "| B/L manifestations | Yes (soft tissue, bone, organs) | Yes (bone length + later soft tissue) |\n",
      "| Additional causes | Rare ectopic GHRH, idiopathic overgrowth | Same; rarely ectopic GHRH in children |\n",
      "| Genetic associations | MEN1, AIP mutations, rare familial syndromes (e.g., GH‑positive variants of MEN1) | Same as above; AIP truncating variants drive childhood onset |\n",
      "\n",
      "### 3. How Does GH Excess Work?\n",
      "\n",
      "1. **GH** is released by the lactotroph cell line in the anterior pituitary, under pulsatile control by the hypothalamus (via GHRH and somatostatin).  \n",
      "2. Excess GH binds to the GH receptor on liver, bone, cartilage, adipose tissue, etc.  \n",
      "3. In the liver, GH stimulates synthesis of **IGF‑1** (and also IGF‑binding proteins).  \n",
      "4. **IGF‑1** acts on bone (synch as the “second‑pass” effect) and soft tissues—producing:\n",
      "   - Increase in cartilage matrix → thicker, longer bone in children.\n",
      "   - Increase in collagen production → conchal/skeletal changes in adults.\n",
      "   - Metabolic effects → insulin resistance, hyperglycemia.\n",
      "   - Cardiovascular effect → myocardial hypertrophy, hypertension.  \n",
      "5. In adults, GH also stimulates lipid metabolism → ectopic fat deposition, lipid abnormalities.\n",
      "\n",
      "### 4. Clinical Features\n",
      "\n",
      "#### Acromegaly (Adults)\n",
      "\n",
      "| Domain | Symptoms |\n",
      "|--------|----------|\n",
      "| **Skeletal / Craniofacial** | Protruding jaw (mandibular prognathism), enlarged nose and lips, widening of triradiate cartilage, broadening of hands/feet, enlarged clavicles/shoulder girdle. |\n",
      "| **Soft tissue** | Thickened tongue (macroglossia), oily skin, hyperhidrosis, altered body odor. |\n",
      "| **Cardiovascular** | Hypertension, left‑ventricular hypertrophy, arrhythmias. |\n",
      "| **Metabolic** | Diabetes mellitus, impaired fasting glucose, dyslipidemia. |\n",
      "| **Neurologic** | Carpal tunnel syndrome, headaches (pituitary adenoma), visual field defects (optic chiasm compression), hypopituitarism. |\n",
      "| **Other** | Sleep apnea, arthritis (especially of the trapeziometacarpal joints), cataracts. |\n",
      "\n",
      "#### Gigantism (Children)\n",
      "\n",
      "| Domain | Symptoms |\n",
      "|--------|----------|\n",
      "| **Linear Growth** | Height > +3SD for age, markedly taller than peers, abdominal “long‑thin” appearance. |\n",
      "| **Growth Plates** | Early-onset epiphyseal closure may occur, leading to **tall, thin limbs**; sometimes “caterpillar” limbs. |\n",
      "| **Facial Features** | Rapid forward growth of maxilla & mandible, may be subtle until adulthood. |\n",
      "| **Other** | Rapid weight gain; feeding difficulties; headaches; visual disturbances; hypertension; joint pain. |\n",
      "\n",
      "**Common Overlap (in late childhood/early adulthood)**  \n",
      "- Hand and foot enlargement, macroglossia, arthropathy, cardiovascular changes.  \n",
      "\n",
      "### 5. Diagnosis\n",
      "\n",
      "| Test | What it tells you | Typical reference for Acromegaly | Typical range for Gigantism |\n",
      "|------|-------------------|--------------------------------|-----------------------------|\n",
      "| **Serum IGF‑1 (age‑adjusted)** | Integrative GH exposure; reliable biomarker | ↑ (often > 1.5× upper limit of normal) | ↑ (can be higher because more growth plates remain active) |\n",
      "| **Random GH** | Not specific; variable | May be normal due to pulsatility | Often elevated early, but can also be normal |\n",
      "| **Oral glucose suppression test (OGTT)** | Suppression < 1 µg/L indicates acromegaly | < 1 µg/L after a 75‑g glucose load | < 2 µg/L or similar cutoff |\n",
      "| **Pituitary MRI** | Detects adenoma, size, invasiveness | Macro‑adenoma > 10 mm common | Micro‑adenoma predominant (especially in children) |\n",
      "| **Endocrine panel** (TSH, ACTH, LH/FSH, prolactin, cortisol) | Co‑secretion or hypopituitarism | May show DI, secondary adrenal insufficiency | Same as above |\n",
      "| **Physical exam** (hand‑foot measurements, facial measurement, plantar fissures) | Baseline for monitoring | > 0.04 m/hands or “coarsening” score | Height SDS, limb‑to‑trunk ratio |\n",
      "\n",
      "**Key points**  \n",
      "- In adults, age‑adjusted IGF‑1 is the most reliable screening test.  \n",
      "- The oral glucose suppression test is the “gold standard” to confirm GH excess.  \n",
      "- In children, a normal IGF‑1 is unlikely; if present, GH testing should still be pursued.  \n",
      "- Persistent GH > 1 µg/L after glucose suppression confirms acromegaly.\n",
      "\n",
      "### 6. Treatment\n",
      "\n",
      "| Step | First‑line | Second‑line | Other Options |\n",
      "|------|------------|-------------|---------------|\n",
      "| **Surg‑ons** | Transsphenoidal pituitary adenomectomy | Repeat surgery if residual tumor | Transcranial surgery for giant tumors |\n",
      "| **Medical** | Somatostatin analogues (Octreotide LAR/ Lanreotide) | Pegvisomant (GH‑receptor antagonist) | Dopamine agonists (Cabergoline) if mild |\n",
      "| **Radiotherapy** | Stereotactic radiosurgery (gamma‑knife) or conventional RT | Usually after surgery & medications | Proton therapy (rare) |\n",
      "| **Monitoring** | IGF‑1 yearly; MRI 6 mo–1 yr after surgery | MRI 6 mo after medical therapy or if disease progresses | Endocrine labs for pituitary deficits |\n",
      "\n",
      "#### Pediatric‑specific considerations\n",
      "\n",
      "- **Growth monitoring** – aggressive GH suppression to prevent linear overgrowth.  \n",
      "- **SnNCT** (growth hormone suppressive therapy) – pegvisomant is first‑line for children.\n",
      "- **Radiotherapy** is avoided where possible because of long‑term risk of secondary malignancy.\n",
      "- **Surgery** remains the most definitive treatment.\n",
      "\n",
      "### 7. Prognosis\n",
      "\n",
      "| Factor | Outcome with Treatment | Outcome without Treatment |\n",
      "|--------|------------------------|---------------------------|\n",
      "| **Cardiovascular** | Normalization of LV mass, improved survival | Up to 3‑to‑4 × increased risk of death |\n",
      "| **Visual** | Most chiasmal visual deficits improve | Progressive loss; irreversible |\n",
      "| **Metabolic** | Better glycemic control, lipid profile | Diabetes, metabolic syndrome |\n",
      "| **Quality of life** | Improved physical, psychological function | Reduced due to deformities, pain |\n",
      "\n",
      "- **Acromegaly**: The early medical or surgical control of GH leads to ~90 % reduction in excess mortality when followed for ≥ 5 y.\n",
      "- **Gigantism**: Early control prevents excessive growth and reduces long‑term comorbidities; untreated can lead to early death before age 50 in ~15 % of patients.\n",
      "\n",
      "### 8. Things to Remember\n",
      "\n",
      "| Myth / Misconception | Reality |\n",
      "|----------------------|---------|\n",
      "| \"Acromegaly only affects the face.\" | It also alters cartilage, bone length, and soft tissue throughout the body. |\n",
      "| \"Only adults get this problem.\" | Children can and do have GH‑overproduction – such cases are called gigantism. |\n",
      "| \"GH is harmless after puberty.\" | Excess GH in adulthood is highly detrimental unless treated. |\n",
      "| \"Surgery alone cures everyone.\" | Many tumors recur or are resistant; medical therapy is often needed. |\n",
      "| \"If you’re big, you’re healthy.\" | Height extremes, especially from gigantism, carry significant cardiovascular, metabolic, and orthopedic risks. |\n",
      "\n",
      "---\n",
      "\n",
      "### Quick Diagnostic Checklist\n",
      "\n",
      "| Symptom | What to look for? | Why important? |\n",
      "|---------|-------------------|----------------|\n",
      "| **Enlarged hands / feet** | Measure width, girth | Marker of GH excess after puberty |\n",
      "| **Progressive height in a child** | Height percentile > +3SD; accelerated growth curves | May indicate gigantism |\n",
      "| **Headaches / visual changes** | MRI for pituitary adenoma | Early detection saves vision |\n",
      "| **Hypertension / diabetes** | Check fasting glucose & lipid panel | GH stimulates insulin resistance and lipolysis |\n",
      "| **Carpal tunnel** | Nerve conduction study | GH-related thickening of synovial tissue compresses median nerve |\n",
      "\n",
      "---\n",
      "\n",
      "## Bottom Line\n",
      "\n",
      "- **Acromegaly** and **gigantism** are *the same endocrine disorder* (excess growth hormone) expressed in two different time windows—after vs. before bone maturity.  \n",
      "- Both manifest as muscle & organ enlargement (acromegaly) or excessive linear growth (gigantism).  \n",
      "- A pituitary somatotroph adenoma is the most common source; other causes are very rare.  \n",
      "- Diagnosis hinges on elevated IGF‑1 with failure to suppress GH after a glucose load, plus imaging evidence of a pituitary lesion.  \n",
      "- Treatment is surgical removal of the tumor, often combined with somatostatin analogues or the GH‑receptor antagonist pegvisomant.  \n",
      "- Untreated disease causes high morbidity and mortality; timely therapy restores quality of life and normal survival. \n",
      "\n",
      "If you or a loved one show any of the hallmarks above, seek a **pituitary specialist** promptly. The faster the diagnosis, the better the chances of restoring normal growth, function, and life expectancy.\n"
     ]
    }
   ],
   "execution_count": 26
  },
  {
   "metadata": {
    "ExecuteTime": {
     "end_time": "2025-10-04T02:19:35.206803Z",
     "start_time": "2025-10-04T02:19:35.137327Z"
    }
   },
   "cell_type": "code",
   "source": [
    "from langchain.chains import create_retrieval_chain\n",
    "from langchain.chains.combine_documents import create_stuff_documents_chain\n",
    "from langchain_core.prompts import ChatPromptTemplate"
   ],
   "id": "a2239feb40b59371",
   "outputs": [],
   "execution_count": 17
  },
  {
   "metadata": {
    "ExecuteTime": {
     "end_time": "2025-10-04T02:19:38.615312Z",
     "start_time": "2025-10-04T02:19:38.612840Z"
    }
   },
   "cell_type": "code",
   "source": [
    "system_prompt = (\n",
    "    \"You are an Medical assistant for question-answering tasks. \"\n",
    "    \"Use the following pieces of retrieved context to answer \"\n",
    "    \"the question. If you don't know the answer, say that you \"\n",
    "    \"don't know. Use three sentences maximum and keep the \"\n",
    "    \"answer concise.\"\n",
    "    \"\\n\\n\"\n",
    "    \"{context}\"\n",
    ")\n",
    "\n",
    "\n",
    "prompt = ChatPromptTemplate.from_messages(\n",
    "    [\n",
    "        (\"system\", system_prompt),\n",
    "        (\"human\", \"{input}\"),\n",
    "    ]\n",
    ")"
   ],
   "id": "c41094a7f99707e9",
   "outputs": [],
   "execution_count": 18
  },
  {
   "metadata": {
    "ExecuteTime": {
     "end_time": "2025-10-04T02:24:23.652865Z",
     "start_time": "2025-10-04T02:24:23.646613Z"
    }
   },
   "cell_type": "code",
   "source": [
    "question_answer_chain = create_stuff_documents_chain(chatModel, prompt)\n",
    "rag_chain = create_retrieval_chain(retriever, question_answer_chain)"
   ],
   "id": "68f539f0f0fffbe2",
   "outputs": [],
   "execution_count": 28
  },
  {
   "metadata": {
    "ExecuteTime": {
     "end_time": "2025-10-04T02:29:13.666974Z",
     "start_time": "2025-10-04T02:29:07.900735Z"
    }
   },
   "cell_type": "code",
   "source": [
    "# response = rag_chain.invoke({\"input\": \"what is Acromegaly and gigantism?\"})\n",
    "response = rag_chain.invoke({\"input\": \"what is pankaj\"})\n",
    "print(response[\"answer\"])"
   ],
   "id": "f7d11aa2d19a54b9",
   "outputs": [
    {
     "name": "stdout",
     "output_type": "stream",
     "text": [
      "Pankaj is a YouTube channel that offers tutorials on a variety of topics. It provides instructional videos aimed at helping viewers learn new skills. The channel covers subjects across many fields, similar to other educational YouTube channels.\n"
     ]
    }
   ],
   "execution_count": 30
  }
 ],
 "metadata": {
  "kernelspec": {
   "name": "python3",
   "language": "python",
   "display_name": "Python 3 (ipykernel)"
  }
 },
 "nbformat": 4,
 "nbformat_minor": 5
}
